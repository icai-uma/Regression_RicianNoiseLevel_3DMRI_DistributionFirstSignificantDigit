{
 "cells": [
  {
   "cell_type": "code",
   "execution_count": 15,
   "metadata": {},
   "outputs": [],
   "source": [
    "%reset"
   ]
  },
  {
   "cell_type": "code",
   "execution_count": 1,
   "metadata": {
    "ExecuteTime": {
     "end_time": "2023-07-12T13:51:22.881114639Z",
     "start_time": "2023-07-12T13:51:22.562995521Z"
    },
    "collapsed": true
   },
   "outputs": [],
   "source": [
    "import os\n",
    "import csv\n",
    "import re\n",
    "import pandas as pd"
   ]
  },
  {
   "cell_type": "code",
   "execution_count": 4,
   "metadata": {
    "ExecuteTime": {
     "end_time": "2023-07-12T13:59:09.489200658Z",
     "start_time": "2023-07-12T13:59:09.444805212Z"
    },
    "collapsed": false
   },
   "outputs": [],
   "source": [
    "base_dir = ('../output/noiseDataset')\n",
    "\n",
    "#20OASIS_SynapseWeb_brain #OASIS-TRT-20_volumes #12HLN #NKI-TRT-20_volumes #NKI-RS-22_volumes #MMRR-21_volumes\n",
    "# T1_AXIAL # Axial_T1_SE # AX_T1_3 # AX_T1_15 # AX_T1_FLASH_(POST) # AX_T1_POST_3 # AX_T1_POST_15 # T1_AXIAL # T1_AXIAL_POST_GAD\n",
    "directory = 'AX_T1_POST_15' \n",
    "completePath = base_dir + '/' + directory\n",
    "pathList = []\n",
    "\n",
    "outputfile_name = 'paths_noiseImages_' + directory\n",
    "outputfile_suffix = 'csv'\n",
    "outputfile_path = os.path.join(completePath, outputfile_name + '.' + outputfile_suffix)\n"
   ]
  },
  {
   "cell_type": "code",
   "execution_count": 18,
   "metadata": {
    "ExecuteTime": {
     "end_time": "2023-07-12T13:48:12.714569291Z",
     "start_time": "2023-07-12T13:48:12.711076010Z"
    },
    "collapsed": false
   },
   "outputs": [],
   "source": [
    "def get_file(elementPath):\n",
    "    fileList = os.listdir(completePath)\n",
    "    for i in fileList:\n",
    "        file_path = elementPath + '/' + i\n",
    "        pathList.append(file_path)\n",
    "\n",
    "def atoi(text):\n",
    "    return int(text) if text.isdigit() else text\n",
    "\n",
    "def natural_keys(text):\n",
    "    return [ atoi(c) for c in re.split(r'(\\d+)', text)]"
   ]
  },
  {
   "cell_type": "code",
   "execution_count": 19,
   "metadata": {
    "ExecuteTime": {
     "end_time": "2023-07-12T13:48:22.604693856Z",
     "start_time": "2023-07-12T13:48:22.593662151Z"
    },
    "collapsed": false
   },
   "outputs": [],
   "source": [
    "get_file(completePath)\n",
    "# pathList[0:3]\n",
    "pathList.sort(key=natural_keys)\n",
    "# pathList[0:3]\n",
    "df = pd.DataFrame(pathList)\n",
    "df.to_csv(outputfile_path, header=False, index=False)"
   ]
  }
 ],
 "metadata": {
  "kernelspec": {
   "display_name": "benford040",
   "language": "python",
   "name": "python3"
  },
  "language_info": {
   "codemirror_mode": {
    "name": "ipython",
    "version": 3
   },
   "file_extension": ".py",
   "mimetype": "text/x-python",
   "name": "python",
   "nbconvert_exporter": "python",
   "pygments_lexer": "ipython3",
   "version": "3.8.18"
  },
  "vscode": {
   "interpreter": {
    "hash": "2e168a325c0c280b551173248b6d4b0c85882bf0215c04a8e6edfcd8716a8cb3"
   }
  }
 },
 "nbformat": 4,
 "nbformat_minor": 0
}
