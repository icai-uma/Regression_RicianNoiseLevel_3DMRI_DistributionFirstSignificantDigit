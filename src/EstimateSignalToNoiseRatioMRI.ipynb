{
  "cells": [
    {
      "cell_type": "markdown",
      "metadata": {
        "id": "35iYKvoA3obP"
      },
      "source": [
        "# Signal to Noise Ratio (SNR) estimation for 3D MRIs with Rician noise\n",
        "\n",
        "This scripts generates 3D magnetic resonance images (MRIs) corrupted with Rician noise from a set of noiseless MRIs. Then the noisy images are analyzed in order to estimate their Signal to Noise Ratio (SNR)."
      ]
    },
    {
      "cell_type": "code",
      "execution_count": 2,
      "metadata": {
        "id": "NRVznHcQ22qX"
      },
      "outputs": [],
      "source": [
        "# Import the library\n",
        "import numpy as np\n",
        "import nibabel as nib\n",
        "import os\n",
        "from glob import glob \n",
        "import scipy\n",
        "from scipy import stats\n",
        "import pandas as pd\n",
        "\n",
        "# Add Rician noise to a 3D MRI\n",
        "# Inputs:\n",
        "#     img3D=The noiseless 3D MRI as a numpy 3D array\n",
        "#     StandardDeviation=The standard deviation of the Rician noise\n",
        "#     NoiseScale=Scaling parameter for the noise\n",
        "#     fixedSeed=Pseudorandom seed to be employed in the noise generation\n",
        "# Output:\n",
        "#     module=The noisy module 3D MRI as a numpy 3D array\n",
        "def ricianDistribution(img3D, StandardDeviation, NoiseScale, fixedSeed):\n",
        "    if StandardDeviation==0:\n",
        "        return img3D\n",
        "    np.random.seed(seed=fixedSeed)\n",
        "    distributionRandom1 = np.random.normal(size = img3D.shape)\n",
        "    distributionRandom2 = np.random.normal(size = img3D.shape)\n",
        "    # Generate the noise\n",
        "    x = StandardDeviation * NoiseScale * distributionRandom1 + img3D\n",
        "    y = StandardDeviation * NoiseScale * distributionRandom2\n",
        "    module = np.sqrt(pow(x, 2) + pow(y, 2))\n",
        "    # Return the image with noise\n",
        "    return  module"
      ]
    },
    {
      "cell_type": "code",
      "execution_count": 3,
      "metadata": {},
      "outputs": [],
      "source": [
        "# Define the dataset to use, choosing one of the directories: 20OASIS_SynapseWeb_brain, OASIS-TRT-20_volumes, 12HLN, NKI-TRT-20_volumes, NKI-RS-22_volumes, MMRR-21_volumes\n",
        "repository = '12HLN' #20OASIS_SynapseWeb_brain #OASIS-TRT-20_volumes #12HLN #NKI-TRT-20_volumes #NKI-RS-22_volumes #MMRR-21_volumes\n",
        "inputDir = ('../input') \n",
        "outputDir = ('../output')\n",
        "\n",
        "# Path with input images\n",
        "dataMRI = os.path.join(inputDir, repository)\n",
        "typeImage = 't1weighted.nii.gz' #'t1weighted_brain.nii.gz' #'t1weighted.nii.gz'\n",
        "pathMRI = sorted(glob(dataMRI + '/**/' + typeImage, recursive=True))\n",
        "SIZE = len(pathMRI)\n",
        "\n",
        "\n",
        "\n",
        "extension = '_SNR.xlsx'\n",
        "outputFile = repository + extension\n",
        "dataset_path = os.path.join(outputDir, outputFile)"
      ]
    },
    {
      "cell_type": "code",
      "execution_count": 27,
      "metadata": {},
      "outputs": [
        {
          "name": "stdout",
          "output_type": "stream",
          "text": [
            "MRI in the path: /home/rosammq/DATA/brain_FastMRI_DICOM/NIFTI/fastMRI_brain_DICOM_T1_AXIAL_20101127000000_5.nii\n",
            "MRI in the path: /home/rosammq/DATA/brain_FastMRI_DICOM/NIFTI/fastMRI_brain_DICOM_T1_AXIAL_20100421000000_4.nii\n",
            "MRI in the path: /home/rosammq/DATA/brain_FastMRI_DICOM/NIFTI/fastMRI_brain_DICOM_T1_AXIAL_20121122000000_4.nii\n",
            "MRI in the path: /home/rosammq/DATA/brain_FastMRI_DICOM/NIFTI/fastMRI_brain_DICOM_T1_AXIAL_20121126000000_6.nii\n",
            "MRI in the path: /home/rosammq/DATA/brain_FastMRI_DICOM/NIFTI/fastMRI_brain_DICOM_T1_AXIAL_20161016000000_4.nii\n",
            "MRI in the path: /home/rosammq/DATA/brain_FastMRI_DICOM/NIFTI/fastMRI_brain_DICOM_T1_AXIAL_20170206000000_4.nii\n",
            "MRI in the path: /home/rosammq/DATA/brain_FastMRI_DICOM/NIFTI/fastMRI_brain_DICOM_T1_AXIAL_20150106000000_4.nii\n",
            "MRI in the path: /home/rosammq/DATA/brain_FastMRI_DICOM/NIFTI/fastMRI_brain_DICOM_T1_AXIAL_20150122000000_4.nii\n",
            "MRI in the path: /home/rosammq/DATA/brain_FastMRI_DICOM/NIFTI/fastMRI_brain_DICOM_T1_AXIAL_20160609000000_4.nii\n",
            "MRI in the path: /home/rosammq/DATA/brain_FastMRI_DICOM/NIFTI/fastMRI_brain_DICOM_T1_AXIAL_20130116000000_4.nii\n",
            "MRI in the path: /home/rosammq/DATA/brain_FastMRI_DICOM/NIFTI/fastMRI_brain_DICOM_T1_AXIAL_20151024000000_4.nii\n",
            "MRI in the path: /home/rosammq/DATA/brain_FastMRI_DICOM/NIFTI/fastMRI_brain_DICOM_T1_AXIAL_20130510000000_4.nii\n",
            "MRI in the path: /home/rosammq/DATA/brain_FastMRI_DICOM/NIFTI/fastMRI_brain_DICOM_T1_AXIAL_20111206000000_4.nii\n",
            "Size is 13\n"
          ]
        }
      ],
      "source": [
        "repository = 'T1_AXIAL'\n",
        "outputDir = ('../output')\n",
        "\n",
        "\n",
        "# name of images\n",
        "input_csv = ('/home/rosammq/PROJECTS/Axioms2023/input/csv/fastMRI_brain_DICOM_T1_AXIAL_.csv')\n",
        "# Read the CSV file into a pandas DataFrame\n",
        "df = pd.read_csv(input_csv, index_col=None, header=None)\n",
        "# Directory where you want to search for files\n",
        "directory = '/home/rosammq/DATA/brain_FastMRI_DICOM/NIFTI'\n",
        "# Auxiliar variable\n",
        "img_list = []\n",
        "\n",
        "for row_idx, row in df.iterrows():\n",
        "    file_path = directory + '/' + row.iloc[0]\n",
        "    print(f\"MRI in the path: {file_path}\")\n",
        "    img_list.append(file_path)\n",
        "\n",
        "\n",
        "pathMRI = img_list\n",
        "SIZE = len(img_list)\n",
        "print(f\"Size is {SIZE}\")\n",
        "\n",
        "extension = '_SNR.xlsx'\n",
        "outputFile = repository + extension\n",
        "dataset_path = os.path.join(outputDir, outputFile)"
      ]
    },
    {
      "cell_type": "code",
      "execution_count": 4,
      "metadata": {
        "colab": {
          "base_uri": "https://localhost:8080/",
          "height": 245
        },
        "id": "6zq5Mvtr3FB-",
        "outputId": "64190fbc-4546-4337-fcdf-85be1d29b7a6"
      },
      "outputs": [
        {
          "ename": "KeyboardInterrupt",
          "evalue": "",
          "output_type": "error",
          "traceback": [
            "\u001b[0;31m---------------------------------------------------------------------------\u001b[0m",
            "\u001b[0;31mKeyboardInterrupt\u001b[0m                         Traceback (most recent call last)",
            "Cell \u001b[0;32mIn[4], line 32\u001b[0m\n\u001b[1;32m     30\u001b[0m \u001b[39m# Compute the squared amplitude of the noisy image and the noise. The amplitude is the square root of the mean over the image of the squares of the voxel values.\u001b[39;00m\n\u001b[1;32m     31\u001b[0m SquaredAmplitudeNoisyImage \u001b[39m=\u001b[39m np\u001b[39m.\u001b[39mmean(np\u001b[39m.\u001b[39mpower(NoisyImage,\u001b[39m2\u001b[39m))\n\u001b[0;32m---> 32\u001b[0m SquaredAmplitudeNoise \u001b[39m=\u001b[39m np\u001b[39m.\u001b[39mmean(np\u001b[39m.\u001b[39;49mpower(Noise,\u001b[39m2\u001b[39;49m))\n\u001b[1;32m     34\u001b[0m \u001b[39m# Compute the Signal to Noise Ratio\u001b[39;00m\n\u001b[1;32m     35\u001b[0m SNR[NdxImage,NdxNoise] \u001b[39m=\u001b[39m SquaredAmplitudeNoisyImage \u001b[39m/\u001b[39m SquaredAmplitudeNoise\n",
            "\u001b[0;31mKeyboardInterrupt\u001b[0m: "
          ]
        }
      ],
      "source": [
        "# Prepare the experiment parameters\n",
        "NumNoiseLevels=20\n",
        "NumNoiselessImages=SIZE\n",
        "MaxNoiseLevel=0.4\n",
        "\n",
        "# Generate the randomly chosen noise levels\n",
        "np.random.seed(seed=1)\n",
        "NoiseLevels = np.linspace(0,MaxNoiseLevel,NumNoiseLevels+1)[1:]\n",
        "\n",
        "# Loop for all noiseless images\n",
        "SNR = np.zeros((NumNoiselessImages,NumNoiseLevels))\n",
        "\n",
        "for NdxImage in range(0,NumNoiselessImages):\n",
        "\n",
        "  # Load the noiseless 3D MRI\n",
        "  NoiselessImage = nib.load(pathMRI[NdxImage]).get_fdata()\n",
        "\n",
        "  # The interquartile range is employed as the noise scaling parameter. This way the\n",
        "  # added noise level is robust against outliers in the values of the noiseless images.\n",
        "  MyIQR=scipy.stats.iqr(NoiselessImage[NoiselessImage!=0])\n",
        "\n",
        "  # Loop for all noise levels\n",
        "  for NdxNoise in range(0,NumNoiseLevels):\n",
        "\n",
        "    # Apply Rician noise\n",
        "    NoiseLevel=NoiseLevels[NdxNoise]\n",
        "    NoisyImage = ricianDistribution(img3D=NoiselessImage,StandardDeviation=NoiseLevel,NoiseScale=MyIQR,fixedSeed=NdxImage*NumNoiseLevels+NdxNoise)\n",
        "    Noise = ricianDistribution(img3D=np.zeros_like(NoiselessImage),StandardDeviation=NoiseLevel,NoiseScale=MyIQR,fixedSeed=NdxImage*NumNoiseLevels+NdxNoise)\n",
        "\n",
        "    # Compute the squared amplitude of the noisy image and the noise. The amplitude is the square root of the mean over the image of the squares of the voxel values.\n",
        "    SquaredAmplitudeNoisyImage = np.mean(np.power(NoisyImage,2))\n",
        "    SquaredAmplitudeNoise = np.mean(np.power(Noise,2))\n",
        "\n",
        "    # Compute the Signal to Noise Ratio\n",
        "    SNR[NdxImage,NdxNoise] = SquaredAmplitudeNoisyImage / SquaredAmplitudeNoise\n"
      ]
    },
    {
      "cell_type": "code",
      "execution_count": 5,
      "metadata": {},
      "outputs": [
        {
          "data": {
            "text/plain": [
              "array([0.02, 0.04, 0.06, 0.08, 0.1 , 0.12, 0.14, 0.16, 0.18, 0.2 , 0.22,\n",
              "       0.24, 0.26, 0.28, 0.3 , 0.32, 0.34, 0.36, 0.38, 0.4 ])"
            ]
          },
          "execution_count": 5,
          "metadata": {},
          "output_type": "execute_result"
        }
      ],
      "source": [
        "NoiseLevels"
      ]
    },
    {
      "cell_type": "code",
      "execution_count": 43,
      "metadata": {},
      "outputs": [
        {
          "data": {
            "text/plain": [
              "array([[544.1822584 , 136.72863595,  61.33236484,  34.9373848 ,\n",
              "         22.71601178,  16.08341084,  12.08313443,   9.48176323,\n",
              "          7.69952468,   6.42282604,   5.48880667,   4.76942458,\n",
              "          4.21206274,   3.76789098,   3.41079771,   3.12047336,\n",
              "          2.8775163 ,   2.67578613,   2.50350988,   2.35685361],\n",
              "       [466.3981219 , 117.38664853,  52.74471309,  30.1065312 ,\n",
              "         19.6200177 ,  13.93160934,  10.50422717,   8.28208811,\n",
              "          6.74747772,   5.65694001,   4.84778317,   4.2345252 ,\n",
              "          3.75508292,   3.37577794,   3.06886745,   2.81876216,\n",
              "          2.61141172,   2.43715677,   2.28964888,   2.16320274],\n",
              "       [425.7347149 , 107.22026312,  48.20256809,  27.5632715 ,\n",
              "         17.994348  ,  12.80686772,   9.67365672,   7.63913382,\n",
              "          6.24371241,   5.25244104,   4.5108906 ,   3.95163376,\n",
              "          3.51593081,   3.16848129,   2.88824831,   2.65947186,\n",
              "          2.47033165,   2.31156999,   2.17739059,   2.06295944],\n",
              "       [535.4321924 , 134.63130171,  60.36657242,  34.39581268,\n",
              "         22.37404864,  15.83972975,  11.89947008,   9.34892772,\n",
              "          7.59234896,   6.34357784,   5.41386691,   4.70964384,\n",
              "          4.16059323,   3.72700468,   3.37484007,   3.08518544,\n",
              "          2.84809362,   2.65036284,   2.48110242,   2.33546955],\n",
              "       [662.4076771 , 166.34729161,  74.46705931,  42.33254378,\n",
              "         27.45914842,  19.38182689,  14.49526366,  11.33533533,\n",
              "          9.16445184,   7.61131374,   6.46599684,   5.59130957,\n",
              "          4.91258315,   4.37351251,   3.93906462,   3.58445573,\n",
              "          3.28801647,   3.04081612,   2.83329402,   2.65262813],\n",
              "       [516.71458071, 129.84467339,  58.29451295,  33.21394465,\n",
              "         21.62174578,  15.32962415,  11.52423227,   9.05902044,\n",
              "          7.36581841,   6.1545288 ,   5.25863198,   4.58031855,\n",
              "          4.05081832,   3.62972269,   3.29278386,   3.0131837 ,\n",
              "          2.78437686,   2.59243491,   2.42800369,   2.28890222],\n",
              "       [467.83914729, 117.72974635,  52.89544168,  30.17264884,\n",
              "         19.67682641,  13.9662964 ,  10.53179068,   8.29110716,\n",
              "          6.76142449,   5.66822538,   4.85971564,   4.24144913,\n",
              "          3.76117684,   3.38255837,   3.07571203,   2.82291223,\n",
              "          2.61446554,   2.44000274,   2.29262984,   2.16651321],\n",
              "       [694.41756716, 174.39652273,  78.05574144,  44.34108203,\n",
              "         28.74613175,  20.26679303,  15.14894249,  11.83549374,\n",
              "          9.56165988,   7.93530588,   6.73523643,   5.81479058,\n",
              "          5.10100484,   4.53858846,   4.08178703,   3.7105556 ,\n",
              "          3.39907658,   3.14125403,   2.92201076,   2.73458656],\n",
              "       [440.26092174, 110.73671436,  49.76526745,  28.44104173,\n",
              "         18.5537877 ,  13.19716074,   9.95395899,   7.8582955 ,\n",
              "          6.41596003,   5.39208028,   4.62590269,   4.04844619,\n",
              "          3.59611075,   3.2376104 ,   2.94993642,   2.71312521,\n",
              "          2.51817776,   2.35484093,   2.21569326,   2.09746136],\n",
              "       [414.96014497, 104.45599906,  46.97551082,  26.8717013 ,\n",
              "         17.55705653,  12.4942152 ,   9.44212089,   7.47026814,\n",
              "          6.11113136,   5.13805693,   4.42008449,   3.87282265,\n",
              "          3.44983475,   3.11202355,   2.84031903,   2.61704332,\n",
              "          2.43247826,   2.27795358,   2.14649034,   2.03508384],\n",
              "       [579.28412168, 145.60945716,  65.2276834 ,  37.13850085,\n",
              "         24.13917874,  17.07033621,  12.80393976,  10.03977961,\n",
              "          8.1426514 ,   6.7824053 ,   5.77926591,   5.01754172,\n",
              "          4.42286308,   3.95057452,   3.5706379 ,   3.25887737,\n",
              "          3.00286854,   2.78514349,   2.60178807,   2.44544499],\n",
              "       [514.0143081 , 129.15064556,  57.9759402 ,  33.05627128,\n",
              "         21.50382421,  15.2404263 ,  11.46253603,   9.01119489,\n",
              "          7.33238942,   6.13000844,   5.23954617,   4.56306197,\n",
              "          4.03322469,   3.61567686,   3.27965244,   3.00366869,\n",
              "          2.77492396,   2.58386295,   2.41987419,   2.28298492]])"
            ]
          },
          "execution_count": 43,
          "metadata": {},
          "output_type": "execute_result"
        }
      ],
      "source": [
        "SNR"
      ]
    },
    {
      "cell_type": "code",
      "execution_count": 41,
      "metadata": {},
      "outputs": [
        {
          "name": "stdout",
          "output_type": "stream",
          "text": [
            "[521.80381303 131.18649163  58.85861464  33.54756122  21.83017714\n",
            "  15.46735805  11.62693943   9.13770064   7.42821255   6.20730914\n",
            "   5.30381062   4.61624731   4.08094051   3.65661852   3.31438724\n",
            "   3.03397622   2.80181144   2.60759871   2.44261966   2.30184088]\n"
          ]
        }
      ],
      "source": [
        "# Compute the average SNR for all images, for each noise level\n",
        "AverageSNR = np.mean(SNR,axis=0)\n",
        "print(AverageSNR)"
      ]
    },
    {
      "cell_type": "code",
      "execution_count": 7,
      "metadata": {},
      "outputs": [],
      "source": [
        "df1 = pd.DataFrame(NoiseLevels)\n",
        "df1.to_excel('kk.xlsx', header=False, index=True)"
      ]
    },
    {
      "cell_type": "code",
      "execution_count": 45,
      "metadata": {},
      "outputs": [
        {
          "data": {
            "text/html": [
              "<div>\n",
              "<style scoped>\n",
              "    .dataframe tbody tr th:only-of-type {\n",
              "        vertical-align: middle;\n",
              "    }\n",
              "\n",
              "    .dataframe tbody tr th {\n",
              "        vertical-align: top;\n",
              "    }\n",
              "\n",
              "    .dataframe thead th {\n",
              "        text-align: right;\n",
              "    }\n",
              "</style>\n",
              "<table border=\"1\" class=\"dataframe\">\n",
              "  <thead>\n",
              "    <tr style=\"text-align: right;\">\n",
              "      <th></th>\n",
              "      <th>0</th>\n",
              "    </tr>\n",
              "  </thead>\n",
              "  <tbody>\n",
              "    <tr>\n",
              "      <th>0</th>\n",
              "      <td>521.803813</td>\n",
              "    </tr>\n",
              "    <tr>\n",
              "      <th>1</th>\n",
              "      <td>131.186492</td>\n",
              "    </tr>\n",
              "    <tr>\n",
              "      <th>2</th>\n",
              "      <td>58.858615</td>\n",
              "    </tr>\n",
              "    <tr>\n",
              "      <th>3</th>\n",
              "      <td>33.547561</td>\n",
              "    </tr>\n",
              "    <tr>\n",
              "      <th>4</th>\n",
              "      <td>21.830177</td>\n",
              "    </tr>\n",
              "    <tr>\n",
              "      <th>5</th>\n",
              "      <td>15.467358</td>\n",
              "    </tr>\n",
              "    <tr>\n",
              "      <th>6</th>\n",
              "      <td>11.626939</td>\n",
              "    </tr>\n",
              "    <tr>\n",
              "      <th>7</th>\n",
              "      <td>9.137701</td>\n",
              "    </tr>\n",
              "    <tr>\n",
              "      <th>8</th>\n",
              "      <td>7.428213</td>\n",
              "    </tr>\n",
              "    <tr>\n",
              "      <th>9</th>\n",
              "      <td>6.207309</td>\n",
              "    </tr>\n",
              "    <tr>\n",
              "      <th>10</th>\n",
              "      <td>5.303811</td>\n",
              "    </tr>\n",
              "    <tr>\n",
              "      <th>11</th>\n",
              "      <td>4.616247</td>\n",
              "    </tr>\n",
              "    <tr>\n",
              "      <th>12</th>\n",
              "      <td>4.080941</td>\n",
              "    </tr>\n",
              "    <tr>\n",
              "      <th>13</th>\n",
              "      <td>3.656619</td>\n",
              "    </tr>\n",
              "    <tr>\n",
              "      <th>14</th>\n",
              "      <td>3.314387</td>\n",
              "    </tr>\n",
              "    <tr>\n",
              "      <th>15</th>\n",
              "      <td>3.033976</td>\n",
              "    </tr>\n",
              "    <tr>\n",
              "      <th>16</th>\n",
              "      <td>2.801811</td>\n",
              "    </tr>\n",
              "    <tr>\n",
              "      <th>17</th>\n",
              "      <td>2.607599</td>\n",
              "    </tr>\n",
              "    <tr>\n",
              "      <th>18</th>\n",
              "      <td>2.442620</td>\n",
              "    </tr>\n",
              "    <tr>\n",
              "      <th>19</th>\n",
              "      <td>2.301841</td>\n",
              "    </tr>\n",
              "  </tbody>\n",
              "</table>\n",
              "</div>"
            ],
            "text/plain": [
              "             0\n",
              "0   521.803813\n",
              "1   131.186492\n",
              "2    58.858615\n",
              "3    33.547561\n",
              "4    21.830177\n",
              "5    15.467358\n",
              "6    11.626939\n",
              "7     9.137701\n",
              "8     7.428213\n",
              "9     6.207309\n",
              "10    5.303811\n",
              "11    4.616247\n",
              "12    4.080941\n",
              "13    3.656619\n",
              "14    3.314387\n",
              "15    3.033976\n",
              "16    2.801811\n",
              "17    2.607599\n",
              "18    2.442620\n",
              "19    2.301841"
            ]
          },
          "execution_count": 45,
          "metadata": {},
          "output_type": "execute_result"
        }
      ],
      "source": [
        "df = pd.DataFrame(AverageSNR)\n",
        "df.to_excel(dataset_path, header=False, index=True+1)\n",
        "df  "
      ]
    },
    {
      "attachments": {},
      "cell_type": "markdown",
      "metadata": {},
      "source": [
        "kk"
      ]
    },
    {
      "cell_type": "code",
      "execution_count": 34,
      "metadata": {},
      "outputs": [
        {
          "name": "stdout",
          "output_type": "stream",
          "text": [
            "[556.23779534 139.79187354  62.69166407  35.69953406  23.20786188\n",
            "  16.42466101  12.33055776   9.67619939   7.85394624   6.55162323\n",
            "   5.58871321   4.85562505   4.28492963   3.83280732   3.46735437\n",
            "   3.16875957   2.92114085   2.71405864   2.53804636   2.388232  ]\n"
          ]
        }
      ],
      "source": [
        "# Compute the average SNR for all images, for each noise level\n",
        "AverageSNR = np.mean(SNR,axis=0)\n",
        "print(AverageSNR)"
      ]
    },
    {
      "cell_type": "code",
      "execution_count": 30,
      "metadata": {},
      "outputs": [
        {
          "name": "stdout",
          "output_type": "stream",
          "text": [
            "[747.95299223 187.64998481  83.97786447  47.67708994  30.87535005\n",
            "  21.7472932   16.2411673   12.67033085  10.21997421   8.46708723\n",
            "   7.17136062   6.18637254   5.41963161   4.8098224    4.31874462\n",
            "   3.91764104   3.58396936   3.30569346   3.06876022   2.86726423]\n"
          ]
        }
      ],
      "source": [
        "# Compute the average SNR for all images, for each noise level\n",
        "AverageSNR = np.mean(SNR,axis=0)\n",
        "print(AverageSNR)"
      ]
    },
    {
      "cell_type": "code",
      "execution_count": 10,
      "metadata": {
        "colab": {
          "base_uri": "https://localhost:8080/"
        },
        "id": "b70K8SW66oT3",
        "outputId": "a4e6a67f-90c4-493a-c56f-3422e5d56d24"
      },
      "outputs": [
        {
          "name": "stdout",
          "output_type": "stream",
          "text": [
            "[521.80381303 131.18649163  58.85861464  33.54756122  21.83017714\n",
            "  15.46735805  11.62693943   9.13770064   7.42821255   6.20730914\n",
            "   5.30381062   4.61624731   4.08094051   3.65661852   3.31438724\n",
            "   3.03397622   2.80181144   2.60759871   2.44261966   2.30184088]\n"
          ]
        }
      ],
      "source": [
        "# Compute the average SNR for all images, for each noise level\n",
        "AverageSNR = np.mean(SNR,axis=0)\n",
        "print(AverageSNR)"
      ]
    },
    {
      "cell_type": "code",
      "execution_count": 35,
      "metadata": {},
      "outputs": [
        {
          "data": {
            "text/html": [
              "<div>\n",
              "<style scoped>\n",
              "    .dataframe tbody tr th:only-of-type {\n",
              "        vertical-align: middle;\n",
              "    }\n",
              "\n",
              "    .dataframe tbody tr th {\n",
              "        vertical-align: top;\n",
              "    }\n",
              "\n",
              "    .dataframe thead th {\n",
              "        text-align: right;\n",
              "    }\n",
              "</style>\n",
              "<table border=\"1\" class=\"dataframe\">\n",
              "  <thead>\n",
              "    <tr style=\"text-align: right;\">\n",
              "      <th></th>\n",
              "      <th>0</th>\n",
              "    </tr>\n",
              "  </thead>\n",
              "  <tbody>\n",
              "    <tr>\n",
              "      <th>0</th>\n",
              "      <td>556.237795</td>\n",
              "    </tr>\n",
              "    <tr>\n",
              "      <th>1</th>\n",
              "      <td>139.791874</td>\n",
              "    </tr>\n",
              "    <tr>\n",
              "      <th>2</th>\n",
              "      <td>62.691664</td>\n",
              "    </tr>\n",
              "    <tr>\n",
              "      <th>3</th>\n",
              "      <td>35.699534</td>\n",
              "    </tr>\n",
              "    <tr>\n",
              "      <th>4</th>\n",
              "      <td>23.207862</td>\n",
              "    </tr>\n",
              "    <tr>\n",
              "      <th>5</th>\n",
              "      <td>16.424661</td>\n",
              "    </tr>\n",
              "    <tr>\n",
              "      <th>6</th>\n",
              "      <td>12.330558</td>\n",
              "    </tr>\n",
              "    <tr>\n",
              "      <th>7</th>\n",
              "      <td>9.676199</td>\n",
              "    </tr>\n",
              "    <tr>\n",
              "      <th>8</th>\n",
              "      <td>7.853946</td>\n",
              "    </tr>\n",
              "    <tr>\n",
              "      <th>9</th>\n",
              "      <td>6.551623</td>\n",
              "    </tr>\n",
              "    <tr>\n",
              "      <th>10</th>\n",
              "      <td>5.588713</td>\n",
              "    </tr>\n",
              "    <tr>\n",
              "      <th>11</th>\n",
              "      <td>4.855625</td>\n",
              "    </tr>\n",
              "    <tr>\n",
              "      <th>12</th>\n",
              "      <td>4.284930</td>\n",
              "    </tr>\n",
              "    <tr>\n",
              "      <th>13</th>\n",
              "      <td>3.832807</td>\n",
              "    </tr>\n",
              "    <tr>\n",
              "      <th>14</th>\n",
              "      <td>3.467354</td>\n",
              "    </tr>\n",
              "    <tr>\n",
              "      <th>15</th>\n",
              "      <td>3.168760</td>\n",
              "    </tr>\n",
              "    <tr>\n",
              "      <th>16</th>\n",
              "      <td>2.921141</td>\n",
              "    </tr>\n",
              "    <tr>\n",
              "      <th>17</th>\n",
              "      <td>2.714059</td>\n",
              "    </tr>\n",
              "    <tr>\n",
              "      <th>18</th>\n",
              "      <td>2.538046</td>\n",
              "    </tr>\n",
              "    <tr>\n",
              "      <th>19</th>\n",
              "      <td>2.388232</td>\n",
              "    </tr>\n",
              "  </tbody>\n",
              "</table>\n",
              "</div>"
            ],
            "text/plain": [
              "             0\n",
              "0   556.237795\n",
              "1   139.791874\n",
              "2    62.691664\n",
              "3    35.699534\n",
              "4    23.207862\n",
              "5    16.424661\n",
              "6    12.330558\n",
              "7     9.676199\n",
              "8     7.853946\n",
              "9     6.551623\n",
              "10    5.588713\n",
              "11    4.855625\n",
              "12    4.284930\n",
              "13    3.832807\n",
              "14    3.467354\n",
              "15    3.168760\n",
              "16    2.921141\n",
              "17    2.714059\n",
              "18    2.538046\n",
              "19    2.388232"
            ]
          },
          "execution_count": 35,
          "metadata": {},
          "output_type": "execute_result"
        }
      ],
      "source": [
        "df = pd.DataFrame(AverageSNR)\n",
        "df.to_excel(dataset_path, header=False, index=False)\n",
        "df  "
      ]
    },
    {
      "cell_type": "markdown",
      "metadata": {
        "id": "vSA69F0O3ngh"
      },
      "source": []
    }
  ],
  "metadata": {
    "colab": {
      "provenance": []
    },
    "kernelspec": {
      "display_name": "benford040",
      "language": "python",
      "name": "python3"
    },
    "language_info": {
      "codemirror_mode": {
        "name": "ipython",
        "version": 3
      },
      "file_extension": ".py",
      "mimetype": "text/x-python",
      "name": "python",
      "nbconvert_exporter": "python",
      "pygments_lexer": "ipython3",
      "version": "3.8.18"
    },
    "vscode": {
      "interpreter": {
        "hash": "2e168a325c0c280b551173248b6d4b0c85882bf0215c04a8e6edfcd8716a8cb3"
      }
    }
  },
  "nbformat": 4,
  "nbformat_minor": 0
}
