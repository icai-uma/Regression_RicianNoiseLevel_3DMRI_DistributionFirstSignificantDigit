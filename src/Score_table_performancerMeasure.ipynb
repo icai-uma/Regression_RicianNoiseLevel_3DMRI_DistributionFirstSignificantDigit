{
 "cells": [
  {
   "cell_type": "code",
   "execution_count": 18,
   "metadata": {
    "ExecuteTime": {
     "end_time": "2023-07-05T12:30:37.743314102Z",
     "start_time": "2023-07-05T12:30:34.903083446Z"
    },
    "collapsed": true
   },
   "outputs": [],
   "source": [
    "%reset"
   ]
  },
  {
   "cell_type": "code",
   "execution_count": 20,
   "metadata": {
    "ExecuteTime": {
     "end_time": "2023-07-05T12:30:42.019396702Z",
     "start_time": "2023-07-05T12:30:41.848621403Z"
    },
    "collapsed": false
   },
   "outputs": [],
   "source": [
    "# Import the relevant libraries\n",
    "import pandas as pd\n",
    "from functools import reduce\n",
    "from pathlib import Path\n",
    "import os\n",
    "\n",
    "# sheet_name\n",
    "sheet_name = 0 # 0 = MSE, 1 = MAE, 2 = R2\n",
    "\n",
    "#Path\n",
    "table_switch = {\n",
    "        '0': 'MSE',\n",
    "        '1': 'MAE',\n",
    "        '2': 'R2'\n",
    "    }\n",
    "\n",
    "inputDir = ('../input/input_to_do_score') \n",
    "nameOutput = table_switch.get(str(sheet_name))\n",
    "outputDir = '../output/Score_' + nameOutput\n",
    "\n",
    "\n",
    "# size\n",
    "size = 120\n",
    "# Columns to select\n",
    "columns_Data = ['Metrics', 'Linear', 'Poly', 'RandomForest', 'SVR', 'KernelRegression']\n",
    "regressors = ['Linear', 'Poly', 'RandomForest', 'SVR', 'KernelRegression']  \n",
    "\n",
    "if not Path(outputDir).is_dir():\n",
    "    Path(outputDir).mkdir(parents=True)\n",
    "    print(f\"{outputDir} directory created\")\n",
    "\n",
    "# Filenames to output\n",
    "filenames = [\"AX_T1_FLASH_(POST).xlsx\", \"AX_T1_POST_3.xlsx\", \"AX_T1_3.xlsx\"]\n"
   ]
  },
  {
   "cell_type": "code",
   "execution_count": 22,
   "metadata": {
    "ExecuteTime": {
     "end_time": "2023-07-05T12:30:42.583095115Z",
     "start_time": "2023-07-05T12:30:42.539457015Z"
    },
    "collapsed": false
   },
   "outputs": [],
   "source": [
    "# Read dataset\n",
    "AX_T1_FLASH_POST_data = pd.read_excel('/home/rosammq/PROJECTS/Axioms2023/output/Figures_and_tables/AX_T1_FLASH_(POST)/CrossValidationResults.xls', sheet_name=sheet_name)\n",
    "AX_T1_POST_3_data = pd.read_excel('/home/rosammq/PROJECTS/Axioms2023/output/Figures_and_tables/AX_T1_POST_3/CrossValidationResults.xls', sheet_name=sheet_name)\n",
    "AX_T1_3_data = pd.read_excel('/home/rosammq/PROJECTS/Axioms2023/output/Figures_and_tables/AX_T1_3/CrossValidationResults.xls', sheet_name=sheet_name)\n",
    "\n",
    "# Score of metrics dataset\n",
    "mse_data = pd.read_excel('/home/rosammq/PROJECTS/Axioms2023/output/3_Tesla/Score_MSE.xlsx')\n"
   ]
  },
  {
   "cell_type": "code",
   "execution_count": 23,
   "metadata": {
    "ExecuteTime": {
     "end_time": "2023-07-05T12:30:43.764838245Z",
     "start_time": "2023-07-05T12:30:43.762848754Z"
    },
    "collapsed": false
   },
   "outputs": [],
   "source": [
    "# Rename 'Unnamed 0' column to 'Metric'\n",
    "AX_T1_FLASH_POST_data = AX_T1_FLASH_POST_data.rename(columns={\"Unnamed: 0\": \"Metrics\"})\n",
    "AX_T1_POST_3_data = AX_T1_POST_3_data.rename(columns={\"Unnamed: 0\": \"Metrics\"})\n",
    "AX_T1_3_data = AX_T1_3_data.rename(columns={\"Unnamed: 0\": \"Metrics\"})"
   ]
  },
  {
   "cell_type": "code",
   "execution_count": 24,
   "metadata": {
    "ExecuteTime": {
     "end_time": "2023-07-05T12:30:44.245980701Z",
     "start_time": "2023-07-05T12:30:44.244574806Z"
    },
    "collapsed": false
   },
   "outputs": [],
   "source": [
    "# Select only the columns of interest\n",
    "AX_T1_FLASH_POST_data = AX_T1_FLASH_POST_data[columns_Data]\n",
    "AX_T1_POST_3_data = AX_T1_POST_3_data[columns_Data]\n",
    "AX_T1_3_data = AX_T1_3_data[columns_Data]"
   ]
  },
  {
   "cell_type": "code",
   "execution_count": 25,
   "metadata": {},
   "outputs": [],
   "source": [
    "# LIst of dataframes sorted by Metrics in natural ascendent order: [1], [2], [3], [4]... [13, 14] (size 120)\n",
    "dataframes_list = [AX_T1_FLASH_POST_data, AX_T1_POST_3_data, AX_T1_3_data]"
   ]
  },
  {
   "cell_type": "code",
   "execution_count": 26,
   "metadata": {},
   "outputs": [],
   "source": [
    "def merge_higlight_output(filename, dataset):\n",
    "    data_frames = [mse_data, dataset]\n",
    "    df_merged= reduce(lambda  left,right: pd.merge(left,right,on=['Metrics'], how='outer'), data_frames)\n",
    "    df_green= df_merged.loc[:,(columns_Data)].style.highlight_min(subset = regressors, color = 'lightgreen', axis = 1)\n",
    "    df_green.to_excel(filename, index=False)"
   ]
  },
  {
   "cell_type": "code",
   "execution_count": 27,
   "metadata": {},
   "outputs": [
    {
     "name": "stdout",
     "output_type": "stream",
     "text": [
      "AX_T1_FLASH_(POST).xlsx file generated.\n",
      "AX_T1_POST_3.xlsx file generated.\n",
      "AX_T1_3.xlsx file generated.\n"
     ]
    }
   ],
   "source": [
    "for idx,filename in enumerate(filenames):\n",
    "    print(f\"{filename} file generated.\")\n",
    "    merge_higlight_output(os.path.join(outputDir, filename), dataframes_list[idx])"
   ]
  }
 ],
 "metadata": {
  "kernelspec": {
   "display_name": "benford040",
   "language": "python",
   "name": "python3"
  },
  "language_info": {
   "codemirror_mode": {
    "name": "ipython",
    "version": 3
   },
   "file_extension": ".py",
   "mimetype": "text/x-python",
   "name": "python",
   "nbconvert_exporter": "python",
   "pygments_lexer": "ipython3",
   "version": "3.8.18 (default, Sep 11 2023, 13:40:15) \n[GCC 11.2.0]"
  },
  "vscode": {
   "interpreter": {
    "hash": "2e168a325c0c280b551173248b6d4b0c85882bf0215c04a8e6edfcd8716a8cb3"
   }
  }
 },
 "nbformat": 4,
 "nbformat_minor": 0
}
