{
 "cells": [
  {
   "attachments": {},
   "cell_type": "markdown",
   "metadata": {},
   "source": [
    "## Performance Measure\n",
    "\n",
    "Calculate the performance measures between our model and the VST model."
   ]
  },
  {
   "cell_type": "code",
   "execution_count": 1,
   "metadata": {},
   "outputs": [],
   "source": [
    "%reset"
   ]
  },
  {
   "cell_type": "code",
   "execution_count": 2,
   "metadata": {},
   "outputs": [],
   "source": [
    "import pandas as pd\n",
    "import numpy as np\n",
    "import os\n",
    "from sklearn.metrics import r2_score"
   ]
  },
  {
   "cell_type": "code",
   "execution_count": 5,
   "metadata": {},
   "outputs": [
    {
     "name": "stdout",
     "output_type": "stream",
     "text": [
      "Directory '../output/performanceMeasure' was already created\n"
     ]
    },
    {
     "data": {
      "text/html": [
       "<div>\n",
       "<style scoped>\n",
       "    .dataframe tbody tr th:only-of-type {\n",
       "        vertical-align: middle;\n",
       "    }\n",
       "\n",
       "    .dataframe tbody tr th {\n",
       "        vertical-align: top;\n",
       "    }\n",
       "\n",
       "    .dataframe thead th {\n",
       "        text-align: right;\n",
       "    }\n",
       "</style>\n",
       "<table border=\"1\" class=\"dataframe\">\n",
       "  <thead>\n",
       "    <tr style=\"text-align: right;\">\n",
       "      <th></th>\n",
       "      <th>MSE</th>\n",
       "      <th>MAE</th>\n",
       "      <th>R2</th>\n",
       "    </tr>\n",
       "  </thead>\n",
       "  <tbody>\n",
       "    <tr>\n",
       "      <th>0</th>\n",
       "      <td>0.001368</td>\n",
       "      <td>0.006724</td>\n",
       "      <td>0.89648</td>\n",
       "    </tr>\n",
       "    <tr>\n",
       "      <th>1</th>\n",
       "      <td>13.680000</td>\n",
       "      <td>6.720000</td>\n",
       "      <td>0.90000</td>\n",
       "    </tr>\n",
       "  </tbody>\n",
       "</table>\n",
       "</div>"
      ],
      "text/plain": [
       "         MSE       MAE       R2\n",
       "0   0.001368  0.006724  0.89648\n",
       "1  13.680000  6.720000  0.90000"
      ]
     },
     "execution_count": 5,
     "metadata": {},
     "output_type": "execute_result"
    }
   ],
   "source": [
    "#20OASIS_SynapseWeb_brain #OASIS-TRT-20_volumes #12HLN #NKI-TRT-20_volumes #NKI-RS-22_volumes #MMRR-21_volumes\n",
    "# T1_AXIAL # Axial_T1_SE # AX_T1_3 # AX_T1_15 # AX_T1_FLASH_(POST) # AX_T1_POST_3 # AX_T1_POST_15 # T1_AXIAL # T1_AXIAL_POST_GAD\n",
    "# directory with xlsx files with the sigma values (noise values) predicted by VS model.\n",
    "input_dir1 = '../output/outputVSTmodel/SigmaValues'\n",
    "inputFileName1 = 'NoiseSigma_AX_T1_POST_3.xlsx' \n",
    "inputFile1 = input_dir1 + '/' + inputFileName1\n",
    "\n",
    "# directory with noise levels\n",
    "input_dir2 = '../output/noiseLevels'\n",
    "inputFileName2 = 'NoiseLevels_AX_T1_POST_3.xlsx' \n",
    "inputFile2 = input_dir2 + '/' + inputFileName2\n",
    "\n",
    "# output\n",
    "output_dir = '../output/performanceMeasure'\n",
    "outputFileName = inputFileName2.replace(\"NoiseLevels_\", \"PerformanceMeasure\")\n",
    "outputFile = output_dir + '/' + outputFileName\n",
    "\n",
    "# Create/check the directory to output\n",
    "\n",
    "directory1 = output_dir\n",
    "\n",
    "if os.path.isdir(directory1):\n",
    "    print(\"Directory '% s' was already created\" % directory1)\n",
    "else:\n",
    "    try:\n",
    "        directory1\n",
    "    except OSError:\n",
    "        print(\"Directory '% s' failed\" % directory1)\n",
    "    else:\n",
    "        print(\"Directory '% s' created\" % directory1)\n",
    "\n",
    "predicted = pd.read_excel(inputFile1)\n",
    "real = pd.read_excel(inputFile2)\n",
    "\n",
    "predicted_n = predicted.to_numpy()\n",
    "real_n = real.to_numpy()\n",
    "\n",
    "mse=np.mean(np.power(predicted_n-real_n,2))\n",
    "mae=np.mean(np.absolute(predicted_n-real_n))\n",
    "r2=r2_score(real_n,predicted_n)\n",
    "\n",
    "details = {'MSE': [mse, np.round(mse * 10000, 2)], 'MAE':[mae, np.round(mae * 1000, 2)], 'R2' : [r2, np.round(r2, 2)]}\n",
    "\n",
    "df = pd.DataFrame(details)\n",
    "df.to_excel(outputFile, header=True, index=False)\n",
    "df  "
   ]
  }
 ],
 "metadata": {
  "kernelspec": {
   "display_name": "benford040",
   "language": "python",
   "name": "python3"
  },
  "language_info": {
   "codemirror_mode": {
    "name": "ipython",
    "version": 3
   },
   "file_extension": ".py",
   "mimetype": "text/x-python",
   "name": "python",
   "nbconvert_exporter": "python",
   "pygments_lexer": "ipython3",
   "version": "3.8.18 (default, Sep 11 2023, 13:40:15) \n[GCC 11.2.0]"
  },
  "orig_nbformat": 4,
  "vscode": {
   "interpreter": {
    "hash": "2e168a325c0c280b551173248b6d4b0c85882bf0215c04a8e6edfcd8716a8cb3"
   }
  }
 },
 "nbformat": 4,
 "nbformat_minor": 2
}
