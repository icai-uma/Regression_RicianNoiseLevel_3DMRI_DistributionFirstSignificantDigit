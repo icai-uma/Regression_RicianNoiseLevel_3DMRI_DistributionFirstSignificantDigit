{
 "cells": [
  {
   "cell_type": "code",
   "execution_count": 1,
   "metadata": {
    "ExecuteTime": {
     "end_time": "2023-07-04T13:31:09.505783114Z",
     "start_time": "2023-07-04T13:31:06.241265865Z"
    },
    "collapsed": true
   },
   "outputs": [],
   "source": [
    "%reset"
   ]
  },
  {
   "cell_type": "code",
   "execution_count": 2,
   "metadata": {
    "ExecuteTime": {
     "end_time": "2023-07-04T13:31:11.641460858Z",
     "start_time": "2023-07-04T13:31:11.639416521Z"
    },
    "collapsed": false
   },
   "outputs": [],
   "source": [
    "# Import the relevant libraries\n",
    "import pandas as pd\n",
    "\n",
    "# sheet_name\n",
    "sheet_name = 0 "
   ]
  },
  {
   "cell_type": "code",
   "execution_count": 3,
   "metadata": {
    "ExecuteTime": {
     "end_time": "2023-07-04T13:31:14.237203636Z",
     "start_time": "2023-07-04T13:31:14.199648250Z"
    },
    "collapsed": false
   },
   "outputs": [],
   "source": [
    "# Read dataset\n",
    "mae = pd.read_excel('/home/rosammq/PROJECTS/Axioms2023/output/30_Tesla/Score_MAE.xlsx', sheet_name=sheet_name)\n",
    "mse = pd.read_excel('/home/rosammq/PROJECTS/Axioms2023/output/30_Tesla/Score_MSE.xlsx', sheet_name=sheet_name)\n",
    "r2 = pd.read_excel('/home/rosammq/PROJECTS/Axioms2023/output/30_Tesla/Score_R2.xlsx', sheet_name=sheet_name)"
   ]
  },
  {
   "cell_type": "code",
   "execution_count": 8,
   "metadata": {},
   "outputs": [],
   "source": [
    "mae_sorted = mae.sort_values('Metrics').reset_index(drop=True)\n",
    "mse_sorted = mse.sort_values('Metrics').reset_index(drop=True)\n",
    "r2_sorted = r2.sort_values('Metrics').reset_index(drop=True)\n",
    "\n",
    "total = mae_sorted['Score'] + mse_sorted['Score']  + r2_sorted['Score']  \n",
    "pd.concat([mse_sorted , r2_sorted, mae_sorted ], axis = 1)\n",
    "total = mae_sorted['Score'] + mse_sorted['Score']  + r2_sorted['Score']  \n",
    "sorted_df = mae_sorted['Metrics'].iloc[:]\n",
    "data={'Metrics': sorted_df,'Score':total}\n",
    "\n",
    "df=pd.DataFrame(data)\n",
    "df_sorted = df.sort_values('Score', ascending=False).reset_index(drop=True)\n",
    "df_sorted.to_excel('../output/30_Tesla/Score_sorted_performanceMeasures_30.xlsx', header=False, index=False) "
   ]
  }
 ],
 "metadata": {
  "kernelspec": {
   "display_name": "benford040",
   "language": "python",
   "name": "python3"
  },
  "language_info": {
   "codemirror_mode": {
    "name": "ipython",
    "version": 3
   },
   "file_extension": ".py",
   "mimetype": "text/x-python",
   "name": "python",
   "nbconvert_exporter": "python",
   "pygments_lexer": "ipython3",
   "version": "3.8.18 (default, Sep 11 2023, 13:40:15) \n[GCC 11.2.0]"
  },
  "vscode": {
   "interpreter": {
    "hash": "2e168a325c0c280b551173248b6d4b0c85882bf0215c04a8e6edfcd8716a8cb3"
   }
  }
 },
 "nbformat": 4,
 "nbformat_minor": 0
}
